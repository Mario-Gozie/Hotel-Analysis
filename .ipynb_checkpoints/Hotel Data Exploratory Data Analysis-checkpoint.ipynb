{
 "cells": [
  {
   "cell_type": "markdown",
   "id": "2843847b",
   "metadata": {},
   "source": [
    "# Importing libraries I need for this Analysis"
   ]
  },
  {
   "cell_type": "code",
   "execution_count": 1,
   "id": "53dd3aa8",
   "metadata": {},
   "outputs": [],
   "source": [
    "import pandas as pd \n",
    "import matplotlib.pyplot as plt\n",
    "import seaborn as sns\n",
    "import numpy as np\n",
    "%matplotlib inline"
   ]
  },
  {
   "cell_type": "code",
   "execution_count": 2,
   "id": "f21d44bd",
   "metadata": {},
   "outputs": [],
   "source": [
    "df =  pd.read_csv('Ready Hotel data.csv')"
   ]
  },
  {
   "cell_type": "code",
   "execution_count": 3,
   "id": "91c3c626",
   "metadata": {
    "scrolled": true
   },
   "outputs": [
    {
     "data": {
      "text/html": [
       "<div>\n",
       "<style scoped>\n",
       "    .dataframe tbody tr th:only-of-type {\n",
       "        vertical-align: middle;\n",
       "    }\n",
       "\n",
       "    .dataframe tbody tr th {\n",
       "        vertical-align: top;\n",
       "    }\n",
       "\n",
       "    .dataframe thead th {\n",
       "        text-align: right;\n",
       "    }\n",
       "</style>\n",
       "<table border=\"1\" class=\"dataframe\">\n",
       "  <thead>\n",
       "    <tr style=\"text-align: right;\">\n",
       "      <th></th>\n",
       "      <th>hotel</th>\n",
       "      <th>arrival_date_year</th>\n",
       "      <th>arrival_date_month</th>\n",
       "      <th>stays_in_week_nights</th>\n",
       "      <th>stays_in_weekend_nights</th>\n",
       "      <th>meal</th>\n",
       "      <th>Meal_cost</th>\n",
       "      <th>country</th>\n",
       "      <th>market_segment</th>\n",
       "      <th>daily_rate_per_night</th>\n",
       "      <th>required_car_parking_spaces</th>\n",
       "      <th>Revenue</th>\n",
       "    </tr>\n",
       "  </thead>\n",
       "  <tbody>\n",
       "    <tr>\n",
       "      <th>0</th>\n",
       "      <td>City Hotel</td>\n",
       "      <td>2020</td>\n",
       "      <td>April</td>\n",
       "      <td>2</td>\n",
       "      <td>0</td>\n",
       "      <td>BB</td>\n",
       "      <td>$12.99</td>\n",
       "      <td>PRT</td>\n",
       "      <td>Aviation</td>\n",
       "      <td>$110.00</td>\n",
       "      <td>0</td>\n",
       "      <td>$571.56</td>\n",
       "    </tr>\n",
       "    <tr>\n",
       "      <th>1</th>\n",
       "      <td>City Hotel</td>\n",
       "      <td>2020</td>\n",
       "      <td>January</td>\n",
       "      <td>2</td>\n",
       "      <td>0</td>\n",
       "      <td>BB</td>\n",
       "      <td>$12.99</td>\n",
       "      <td>AUT</td>\n",
       "      <td>Aviation</td>\n",
       "      <td>$95.00</td>\n",
       "      <td>0</td>\n",
       "      <td>$493.62</td>\n",
       "    </tr>\n",
       "    <tr>\n",
       "      <th>2</th>\n",
       "      <td>City Hotel</td>\n",
       "      <td>2020</td>\n",
       "      <td>January</td>\n",
       "      <td>2</td>\n",
       "      <td>0</td>\n",
       "      <td>BB</td>\n",
       "      <td>$12.99</td>\n",
       "      <td>BEL</td>\n",
       "      <td>Aviation</td>\n",
       "      <td>$95.00</td>\n",
       "      <td>0</td>\n",
       "      <td>$493.62</td>\n",
       "    </tr>\n",
       "    <tr>\n",
       "      <th>3</th>\n",
       "      <td>City Hotel</td>\n",
       "      <td>2020</td>\n",
       "      <td>June</td>\n",
       "      <td>1</td>\n",
       "      <td>0</td>\n",
       "      <td>BB</td>\n",
       "      <td>$12.99</td>\n",
       "      <td>BEL</td>\n",
       "      <td>Aviation</td>\n",
       "      <td>$95.00</td>\n",
       "      <td>0</td>\n",
       "      <td>$246.81</td>\n",
       "    </tr>\n",
       "    <tr>\n",
       "      <th>4</th>\n",
       "      <td>City Hotel</td>\n",
       "      <td>2020</td>\n",
       "      <td>June</td>\n",
       "      <td>1</td>\n",
       "      <td>0</td>\n",
       "      <td>BB</td>\n",
       "      <td>$12.99</td>\n",
       "      <td>PRT</td>\n",
       "      <td>Aviation</td>\n",
       "      <td>$144.00</td>\n",
       "      <td>0</td>\n",
       "      <td>$374.11</td>\n",
       "    </tr>\n",
       "  </tbody>\n",
       "</table>\n",
       "</div>"
      ],
      "text/plain": [
       "        hotel  arrival_date_year arrival_date_month  stays_in_week_nights  \\\n",
       "0  City Hotel               2020              April                     2   \n",
       "1  City Hotel               2020            January                     2   \n",
       "2  City Hotel               2020            January                     2   \n",
       "3  City Hotel               2020               June                     1   \n",
       "4  City Hotel               2020               June                     1   \n",
       "\n",
       "   stays_in_weekend_nights meal Meal_cost country market_segment  \\\n",
       "0                        0   BB   $12.99      PRT       Aviation   \n",
       "1                        0   BB   $12.99      AUT       Aviation   \n",
       "2                        0   BB   $12.99      BEL       Aviation   \n",
       "3                        0   BB   $12.99      BEL       Aviation   \n",
       "4                        0   BB   $12.99      PRT       Aviation   \n",
       "\n",
       "  daily_rate_per_night  required_car_parking_spaces   Revenue  \n",
       "0             $110.00                             0  $571.56   \n",
       "1              $95.00                             0  $493.62   \n",
       "2              $95.00                             0  $493.62   \n",
       "3              $95.00                             0  $246.81   \n",
       "4             $144.00                             0  $374.11   "
      ]
     },
     "execution_count": 3,
     "metadata": {},
     "output_type": "execute_result"
    }
   ],
   "source": [
    "df.head() #this data is not clean becuase all column that has to do with money has dollar sign next to it.\n",
    "#the dollar signs make them strings. hence, Arithemetic calculations won't work on them. I need to change them to float or int."
   ]
  },
  {
   "cell_type": "markdown",
   "id": "1e375dba",
   "metadata": {},
   "source": [
    "# Data Cleaning"
   ]
  },
  {
   "cell_type": "code",
   "execution_count": 4,
   "id": "06dc8fdd",
   "metadata": {},
   "outputs": [
    {
     "data": {
      "text/plain": [
       "hotel                          object\n",
       "arrival_date_year               int64\n",
       "arrival_date_month             object\n",
       "stays_in_week_nights            int64\n",
       "stays_in_weekend_nights         int64\n",
       "meal                           object\n",
       "Meal_cost                      object\n",
       "country                        object\n",
       "market_segment                 object\n",
       "daily_rate_per_night           object\n",
       "required_car_parking_spaces     int64\n",
       "Revenue                        object\n",
       "dtype: object"
      ]
     },
     "execution_count": 4,
     "metadata": {},
     "output_type": "execute_result"
    }
   ],
   "source": [
    "df.dtypes #from here, its obvious that the finance related columns are strings"
   ]
  },
  {
   "cell_type": "code",
   "execution_count": 5,
   "id": "7d180a1b",
   "metadata": {},
   "outputs": [
    {
     "data": {
      "text/plain": [
       "array([2020, 2019, 2018], dtype=int64)"
      ]
     },
     "execution_count": 5,
     "metadata": {},
     "output_type": "execute_result"
    }
   ],
   "source": [
    "df['arrival_date_year'].unique() #this shows that this table is made of only three years"
   ]
  },
  {
   "cell_type": "code",
   "execution_count": 6,
   "id": "a84f2576",
   "metadata": {},
   "outputs": [
    {
     "data": {
      "text/plain": [
       "hotel                            0\n",
       "arrival_date_year                0\n",
       "arrival_date_month               0\n",
       "stays_in_week_nights             0\n",
       "stays_in_weekend_nights          0\n",
       "meal                             0\n",
       "Meal_cost                        0\n",
       "country                        203\n",
       "market_segment                   0\n",
       "daily_rate_per_night             0\n",
       "required_car_parking_spaces      0\n",
       "Revenue                          0\n",
       "dtype: int64"
      ]
     },
     "execution_count": 6,
     "metadata": {},
     "output_type": "execute_result"
    }
   ],
   "source": [
    "df.isna().sum() #we can see from here that there are 203 null values in the country column."
   ]
  },
  {
   "cell_type": "code",
   "execution_count": 7,
   "id": "5ba08987",
   "metadata": {},
   "outputs": [
    {
     "data": {
      "text/html": [
       "<div>\n",
       "<style scoped>\n",
       "    .dataframe tbody tr th:only-of-type {\n",
       "        vertical-align: middle;\n",
       "    }\n",
       "\n",
       "    .dataframe tbody tr th {\n",
       "        vertical-align: top;\n",
       "    }\n",
       "\n",
       "    .dataframe thead th {\n",
       "        text-align: right;\n",
       "    }\n",
       "</style>\n",
       "<table border=\"1\" class=\"dataframe\">\n",
       "  <thead>\n",
       "    <tr style=\"text-align: right;\">\n",
       "      <th></th>\n",
       "      <th>hotel</th>\n",
       "      <th>arrival_date_year</th>\n",
       "      <th>arrival_date_month</th>\n",
       "      <th>stays_in_week_nights</th>\n",
       "      <th>stays_in_weekend_nights</th>\n",
       "      <th>meal</th>\n",
       "      <th>Meal_cost</th>\n",
       "      <th>country</th>\n",
       "      <th>market_segment</th>\n",
       "      <th>daily_rate_per_night</th>\n",
       "      <th>required_car_parking_spaces</th>\n",
       "      <th>Revenue</th>\n",
       "    </tr>\n",
       "  </thead>\n",
       "  <tbody>\n",
       "    <tr>\n",
       "      <th>356</th>\n",
       "      <td>City Hotel</td>\n",
       "      <td>2020</td>\n",
       "      <td>April</td>\n",
       "      <td>0</td>\n",
       "      <td>0</td>\n",
       "      <td>SC</td>\n",
       "      <td>$35.00</td>\n",
       "      <td>NaN</td>\n",
       "      <td>Complementary</td>\n",
       "      <td>$0.00</td>\n",
       "      <td>0</td>\n",
       "      <td>$0.00</td>\n",
       "    </tr>\n",
       "    <tr>\n",
       "      <th>395</th>\n",
       "      <td>Resort Hotel</td>\n",
       "      <td>2020</td>\n",
       "      <td>January</td>\n",
       "      <td>2</td>\n",
       "      <td>1</td>\n",
       "      <td>BB</td>\n",
       "      <td>$12.99</td>\n",
       "      <td>NaN</td>\n",
       "      <td>Complementary</td>\n",
       "      <td>$0.00</td>\n",
       "      <td>0</td>\n",
       "      <td>$0.00</td>\n",
       "    </tr>\n",
       "    <tr>\n",
       "      <th>1518</th>\n",
       "      <td>Resort Hotel</td>\n",
       "      <td>2018</td>\n",
       "      <td>December</td>\n",
       "      <td>2</td>\n",
       "      <td>0</td>\n",
       "      <td>BB</td>\n",
       "      <td>$12.99</td>\n",
       "      <td>NaN</td>\n",
       "      <td>Corporate</td>\n",
       "      <td>$35.00</td>\n",
       "      <td>0</td>\n",
       "      <td>$136.40</td>\n",
       "    </tr>\n",
       "    <tr>\n",
       "      <th>1519</th>\n",
       "      <td>Resort Hotel</td>\n",
       "      <td>2018</td>\n",
       "      <td>December</td>\n",
       "      <td>1</td>\n",
       "      <td>0</td>\n",
       "      <td>BB</td>\n",
       "      <td>$12.99</td>\n",
       "      <td>NaN</td>\n",
       "      <td>Corporate</td>\n",
       "      <td>$38.00</td>\n",
       "      <td>1</td>\n",
       "      <td>$74.04</td>\n",
       "    </tr>\n",
       "    <tr>\n",
       "      <th>1527</th>\n",
       "      <td>Resort Hotel</td>\n",
       "      <td>2018</td>\n",
       "      <td>December</td>\n",
       "      <td>1</td>\n",
       "      <td>0</td>\n",
       "      <td>BB</td>\n",
       "      <td>$12.99</td>\n",
       "      <td>NaN</td>\n",
       "      <td>Corporate</td>\n",
       "      <td>$35.00</td>\n",
       "      <td>0</td>\n",
       "      <td>$68.20</td>\n",
       "    </tr>\n",
       "    <tr>\n",
       "      <th>...</th>\n",
       "      <td>...</td>\n",
       "      <td>...</td>\n",
       "      <td>...</td>\n",
       "      <td>...</td>\n",
       "      <td>...</td>\n",
       "      <td>...</td>\n",
       "      <td>...</td>\n",
       "      <td>...</td>\n",
       "      <td>...</td>\n",
       "      <td>...</td>\n",
       "      <td>...</td>\n",
       "      <td>...</td>\n",
       "    </tr>\n",
       "    <tr>\n",
       "      <th>45951</th>\n",
       "      <td>Resort Hotel</td>\n",
       "      <td>2018</td>\n",
       "      <td>July</td>\n",
       "      <td>2</td>\n",
       "      <td>0</td>\n",
       "      <td>BB</td>\n",
       "      <td>$12.99</td>\n",
       "      <td>NaN</td>\n",
       "      <td>Online TA</td>\n",
       "      <td>$107.00</td>\n",
       "      <td>1</td>\n",
       "      <td>$833.96</td>\n",
       "    </tr>\n",
       "    <tr>\n",
       "      <th>46107</th>\n",
       "      <td>Resort Hotel</td>\n",
       "      <td>2020</td>\n",
       "      <td>February</td>\n",
       "      <td>1</td>\n",
       "      <td>2</td>\n",
       "      <td>HB</td>\n",
       "      <td>$17.99</td>\n",
       "      <td>NaN</td>\n",
       "      <td>Online TA</td>\n",
       "      <td>$130.00</td>\n",
       "      <td>0</td>\n",
       "      <td>$2,104.83</td>\n",
       "    </tr>\n",
       "    <tr>\n",
       "      <th>46339</th>\n",
       "      <td>Resort Hotel</td>\n",
       "      <td>2018</td>\n",
       "      <td>August</td>\n",
       "      <td>2</td>\n",
       "      <td>0</td>\n",
       "      <td>BB</td>\n",
       "      <td>$12.99</td>\n",
       "      <td>NaN</td>\n",
       "      <td>Online TA</td>\n",
       "      <td>$164.00</td>\n",
       "      <td>1</td>\n",
       "      <td>$1,278.22</td>\n",
       "    </tr>\n",
       "    <tr>\n",
       "      <th>46858</th>\n",
       "      <td>Resort Hotel</td>\n",
       "      <td>2018</td>\n",
       "      <td>August</td>\n",
       "      <td>10</td>\n",
       "      <td>3</td>\n",
       "      <td>BB</td>\n",
       "      <td>$12.99</td>\n",
       "      <td>NaN</td>\n",
       "      <td>Online TA</td>\n",
       "      <td>$134.00</td>\n",
       "      <td>0</td>\n",
       "      <td>$6,788.57</td>\n",
       "    </tr>\n",
       "    <tr>\n",
       "      <th>47236</th>\n",
       "      <td>Resort Hotel</td>\n",
       "      <td>2018</td>\n",
       "      <td>August</td>\n",
       "      <td>3</td>\n",
       "      <td>2</td>\n",
       "      <td>BB</td>\n",
       "      <td>$12.99</td>\n",
       "      <td>NaN</td>\n",
       "      <td>Online TA</td>\n",
       "      <td>$134.00</td>\n",
       "      <td>0</td>\n",
       "      <td>$2,610.99</td>\n",
       "    </tr>\n",
       "  </tbody>\n",
       "</table>\n",
       "<p>203 rows × 12 columns</p>\n",
       "</div>"
      ],
      "text/plain": [
       "              hotel  arrival_date_year arrival_date_month  \\\n",
       "356      City Hotel               2020              April   \n",
       "395    Resort Hotel               2020            January   \n",
       "1518   Resort Hotel               2018           December   \n",
       "1519   Resort Hotel               2018           December   \n",
       "1527   Resort Hotel               2018           December   \n",
       "...             ...                ...                ...   \n",
       "45951  Resort Hotel               2018               July   \n",
       "46107  Resort Hotel               2020           February   \n",
       "46339  Resort Hotel               2018             August   \n",
       "46858  Resort Hotel               2018             August   \n",
       "47236  Resort Hotel               2018             August   \n",
       "\n",
       "       stays_in_week_nights  stays_in_weekend_nights meal Meal_cost country  \\\n",
       "356                       0                        0   SC   $35.00      NaN   \n",
       "395                       2                        1   BB   $12.99      NaN   \n",
       "1518                      2                        0   BB   $12.99      NaN   \n",
       "1519                      1                        0   BB   $12.99      NaN   \n",
       "1527                      1                        0   BB   $12.99      NaN   \n",
       "...                     ...                      ...  ...       ...     ...   \n",
       "45951                     2                        0   BB   $12.99      NaN   \n",
       "46107                     1                        2   HB   $17.99      NaN   \n",
       "46339                     2                        0   BB   $12.99      NaN   \n",
       "46858                    10                        3   BB   $12.99      NaN   \n",
       "47236                     3                        2   BB   $12.99      NaN   \n",
       "\n",
       "      market_segment daily_rate_per_night  required_car_parking_spaces  \\\n",
       "356    Complementary               $0.00                             0   \n",
       "395    Complementary               $0.00                             0   \n",
       "1518       Corporate              $35.00                             0   \n",
       "1519       Corporate              $38.00                             1   \n",
       "1527       Corporate              $35.00                             0   \n",
       "...              ...                  ...                          ...   \n",
       "45951      Online TA             $107.00                             1   \n",
       "46107      Online TA             $130.00                             0   \n",
       "46339      Online TA             $164.00                             1   \n",
       "46858      Online TA             $134.00                             0   \n",
       "47236      Online TA             $134.00                             0   \n",
       "\n",
       "          Revenue  \n",
       "356        $0.00   \n",
       "395        $0.00   \n",
       "1518     $136.40   \n",
       "1519      $74.04   \n",
       "1527      $68.20   \n",
       "...           ...  \n",
       "45951    $833.96   \n",
       "46107  $2,104.83   \n",
       "46339  $1,278.22   \n",
       "46858  $6,788.57   \n",
       "47236  $2,610.99   \n",
       "\n",
       "[203 rows x 12 columns]"
      ]
     },
     "execution_count": 7,
     "metadata": {},
     "output_type": "execute_result"
    }
   ],
   "source": [
    "df[df.country.isna()] #this reveals the null rows in the country column"
   ]
  },
  {
   "cell_type": "code",
   "execution_count": 8,
   "id": "f3c69222",
   "metadata": {},
   "outputs": [],
   "source": [
    "df['country'].fillna('Not Specified', inplace= True) #here I replaced the null values in the country column with not specified."
   ]
  },
  {
   "cell_type": "code",
   "execution_count": 9,
   "id": "f613a454",
   "metadata": {},
   "outputs": [
    {
     "data": {
      "text/html": [
       "<div>\n",
       "<style scoped>\n",
       "    .dataframe tbody tr th:only-of-type {\n",
       "        vertical-align: middle;\n",
       "    }\n",
       "\n",
       "    .dataframe tbody tr th {\n",
       "        vertical-align: top;\n",
       "    }\n",
       "\n",
       "    .dataframe thead th {\n",
       "        text-align: right;\n",
       "    }\n",
       "</style>\n",
       "<table border=\"1\" class=\"dataframe\">\n",
       "  <thead>\n",
       "    <tr style=\"text-align: right;\">\n",
       "      <th></th>\n",
       "      <th>hotel</th>\n",
       "      <th>arrival_date_year</th>\n",
       "      <th>arrival_date_month</th>\n",
       "      <th>stays_in_week_nights</th>\n",
       "      <th>stays_in_weekend_nights</th>\n",
       "      <th>meal</th>\n",
       "      <th>Meal_cost</th>\n",
       "      <th>country</th>\n",
       "      <th>market_segment</th>\n",
       "      <th>daily_rate_per_night</th>\n",
       "      <th>required_car_parking_spaces</th>\n",
       "      <th>Revenue</th>\n",
       "    </tr>\n",
       "  </thead>\n",
       "  <tbody>\n",
       "    <tr>\n",
       "      <th>356</th>\n",
       "      <td>City Hotel</td>\n",
       "      <td>2020</td>\n",
       "      <td>April</td>\n",
       "      <td>0</td>\n",
       "      <td>0</td>\n",
       "      <td>SC</td>\n",
       "      <td>$35.00</td>\n",
       "      <td>Not Specified</td>\n",
       "      <td>Complementary</td>\n",
       "      <td>$0.00</td>\n",
       "      <td>0</td>\n",
       "      <td>$0.00</td>\n",
       "    </tr>\n",
       "    <tr>\n",
       "      <th>395</th>\n",
       "      <td>Resort Hotel</td>\n",
       "      <td>2020</td>\n",
       "      <td>January</td>\n",
       "      <td>2</td>\n",
       "      <td>1</td>\n",
       "      <td>BB</td>\n",
       "      <td>$12.99</td>\n",
       "      <td>Not Specified</td>\n",
       "      <td>Complementary</td>\n",
       "      <td>$0.00</td>\n",
       "      <td>0</td>\n",
       "      <td>$0.00</td>\n",
       "    </tr>\n",
       "    <tr>\n",
       "      <th>1518</th>\n",
       "      <td>Resort Hotel</td>\n",
       "      <td>2018</td>\n",
       "      <td>December</td>\n",
       "      <td>2</td>\n",
       "      <td>0</td>\n",
       "      <td>BB</td>\n",
       "      <td>$12.99</td>\n",
       "      <td>Not Specified</td>\n",
       "      <td>Corporate</td>\n",
       "      <td>$35.00</td>\n",
       "      <td>0</td>\n",
       "      <td>$136.40</td>\n",
       "    </tr>\n",
       "    <tr>\n",
       "      <th>1519</th>\n",
       "      <td>Resort Hotel</td>\n",
       "      <td>2018</td>\n",
       "      <td>December</td>\n",
       "      <td>1</td>\n",
       "      <td>0</td>\n",
       "      <td>BB</td>\n",
       "      <td>$12.99</td>\n",
       "      <td>Not Specified</td>\n",
       "      <td>Corporate</td>\n",
       "      <td>$38.00</td>\n",
       "      <td>1</td>\n",
       "      <td>$74.04</td>\n",
       "    </tr>\n",
       "    <tr>\n",
       "      <th>1527</th>\n",
       "      <td>Resort Hotel</td>\n",
       "      <td>2018</td>\n",
       "      <td>December</td>\n",
       "      <td>1</td>\n",
       "      <td>0</td>\n",
       "      <td>BB</td>\n",
       "      <td>$12.99</td>\n",
       "      <td>Not Specified</td>\n",
       "      <td>Corporate</td>\n",
       "      <td>$35.00</td>\n",
       "      <td>0</td>\n",
       "      <td>$68.20</td>\n",
       "    </tr>\n",
       "    <tr>\n",
       "      <th>...</th>\n",
       "      <td>...</td>\n",
       "      <td>...</td>\n",
       "      <td>...</td>\n",
       "      <td>...</td>\n",
       "      <td>...</td>\n",
       "      <td>...</td>\n",
       "      <td>...</td>\n",
       "      <td>...</td>\n",
       "      <td>...</td>\n",
       "      <td>...</td>\n",
       "      <td>...</td>\n",
       "      <td>...</td>\n",
       "    </tr>\n",
       "    <tr>\n",
       "      <th>45951</th>\n",
       "      <td>Resort Hotel</td>\n",
       "      <td>2018</td>\n",
       "      <td>July</td>\n",
       "      <td>2</td>\n",
       "      <td>0</td>\n",
       "      <td>BB</td>\n",
       "      <td>$12.99</td>\n",
       "      <td>Not Specified</td>\n",
       "      <td>Online TA</td>\n",
       "      <td>$107.00</td>\n",
       "      <td>1</td>\n",
       "      <td>$833.96</td>\n",
       "    </tr>\n",
       "    <tr>\n",
       "      <th>46107</th>\n",
       "      <td>Resort Hotel</td>\n",
       "      <td>2020</td>\n",
       "      <td>February</td>\n",
       "      <td>1</td>\n",
       "      <td>2</td>\n",
       "      <td>HB</td>\n",
       "      <td>$17.99</td>\n",
       "      <td>Not Specified</td>\n",
       "      <td>Online TA</td>\n",
       "      <td>$130.00</td>\n",
       "      <td>0</td>\n",
       "      <td>$2,104.83</td>\n",
       "    </tr>\n",
       "    <tr>\n",
       "      <th>46339</th>\n",
       "      <td>Resort Hotel</td>\n",
       "      <td>2018</td>\n",
       "      <td>August</td>\n",
       "      <td>2</td>\n",
       "      <td>0</td>\n",
       "      <td>BB</td>\n",
       "      <td>$12.99</td>\n",
       "      <td>Not Specified</td>\n",
       "      <td>Online TA</td>\n",
       "      <td>$164.00</td>\n",
       "      <td>1</td>\n",
       "      <td>$1,278.22</td>\n",
       "    </tr>\n",
       "    <tr>\n",
       "      <th>46858</th>\n",
       "      <td>Resort Hotel</td>\n",
       "      <td>2018</td>\n",
       "      <td>August</td>\n",
       "      <td>10</td>\n",
       "      <td>3</td>\n",
       "      <td>BB</td>\n",
       "      <td>$12.99</td>\n",
       "      <td>Not Specified</td>\n",
       "      <td>Online TA</td>\n",
       "      <td>$134.00</td>\n",
       "      <td>0</td>\n",
       "      <td>$6,788.57</td>\n",
       "    </tr>\n",
       "    <tr>\n",
       "      <th>47236</th>\n",
       "      <td>Resort Hotel</td>\n",
       "      <td>2018</td>\n",
       "      <td>August</td>\n",
       "      <td>3</td>\n",
       "      <td>2</td>\n",
       "      <td>BB</td>\n",
       "      <td>$12.99</td>\n",
       "      <td>Not Specified</td>\n",
       "      <td>Online TA</td>\n",
       "      <td>$134.00</td>\n",
       "      <td>0</td>\n",
       "      <td>$2,610.99</td>\n",
       "    </tr>\n",
       "  </tbody>\n",
       "</table>\n",
       "<p>203 rows × 12 columns</p>\n",
       "</div>"
      ],
      "text/plain": [
       "              hotel  arrival_date_year arrival_date_month  \\\n",
       "356      City Hotel               2020              April   \n",
       "395    Resort Hotel               2020            January   \n",
       "1518   Resort Hotel               2018           December   \n",
       "1519   Resort Hotel               2018           December   \n",
       "1527   Resort Hotel               2018           December   \n",
       "...             ...                ...                ...   \n",
       "45951  Resort Hotel               2018               July   \n",
       "46107  Resort Hotel               2020           February   \n",
       "46339  Resort Hotel               2018             August   \n",
       "46858  Resort Hotel               2018             August   \n",
       "47236  Resort Hotel               2018             August   \n",
       "\n",
       "       stays_in_week_nights  stays_in_weekend_nights meal Meal_cost  \\\n",
       "356                       0                        0   SC   $35.00    \n",
       "395                       2                        1   BB   $12.99    \n",
       "1518                      2                        0   BB   $12.99    \n",
       "1519                      1                        0   BB   $12.99    \n",
       "1527                      1                        0   BB   $12.99    \n",
       "...                     ...                      ...  ...       ...   \n",
       "45951                     2                        0   BB   $12.99    \n",
       "46107                     1                        2   HB   $17.99    \n",
       "46339                     2                        0   BB   $12.99    \n",
       "46858                    10                        3   BB   $12.99    \n",
       "47236                     3                        2   BB   $12.99    \n",
       "\n",
       "             country market_segment daily_rate_per_night  \\\n",
       "356    Not Specified  Complementary               $0.00    \n",
       "395    Not Specified  Complementary               $0.00    \n",
       "1518   Not Specified      Corporate              $35.00    \n",
       "1519   Not Specified      Corporate              $38.00    \n",
       "1527   Not Specified      Corporate              $35.00    \n",
       "...              ...            ...                  ...   \n",
       "45951  Not Specified      Online TA             $107.00    \n",
       "46107  Not Specified      Online TA             $130.00    \n",
       "46339  Not Specified      Online TA             $164.00    \n",
       "46858  Not Specified      Online TA             $134.00    \n",
       "47236  Not Specified      Online TA             $134.00    \n",
       "\n",
       "       required_car_parking_spaces     Revenue  \n",
       "356                              0      $0.00   \n",
       "395                              0      $0.00   \n",
       "1518                             0    $136.40   \n",
       "1519                             1     $74.04   \n",
       "1527                             0     $68.20   \n",
       "...                            ...         ...  \n",
       "45951                            1    $833.96   \n",
       "46107                            0  $2,104.83   \n",
       "46339                            1  $1,278.22   \n",
       "46858                            0  $6,788.57   \n",
       "47236                            0  $2,610.99   \n",
       "\n",
       "[203 rows x 12 columns]"
      ]
     },
     "execution_count": 9,
     "metadata": {},
     "output_type": "execute_result"
    }
   ],
   "source": [
    "df[df['country'] == 'Not Specified'] # this reveals the columns."
   ]
  },
  {
   "cell_type": "code",
   "execution_count": 10,
   "id": "c7fe2f7e",
   "metadata": {},
   "outputs": [
    {
     "data": {
      "text/plain": [
       "array(['Aviation', 'Complementary', 'Corporate', 'Direct', 'Groups',\n",
       "       'Offline TA/TO', 'Online TA', 'Undefined'], dtype=object)"
      ]
     },
     "execution_count": 10,
     "metadata": {},
     "output_type": "execute_result"
    }
   ],
   "source": [
    "df['market_segment'].unique() #this shows all the unique values in the market segment."
   ]
  },
  {
   "cell_type": "code",
   "execution_count": 11,
   "id": "0dfef92f",
   "metadata": {
    "scrolled": true
   },
   "outputs": [
    {
     "data": {
      "text/plain": [
       "hotel                          object\n",
       "arrival_date_year               int64\n",
       "arrival_date_month             object\n",
       "stays_in_week_nights            int64\n",
       "stays_in_weekend_nights         int64\n",
       "meal                           object\n",
       "Meal_cost                      object\n",
       "country                        object\n",
       "market_segment                 object\n",
       "daily_rate_per_night           object\n",
       "required_car_parking_spaces     int64\n",
       "Revenue                        object\n",
       "dtype: object"
      ]
     },
     "execution_count": 11,
     "metadata": {},
     "output_type": "execute_result"
    }
   ],
   "source": [
    "df.dtypes"
   ]
  },
  {
   "cell_type": "code",
   "execution_count": 12,
   "id": "7e7d0578",
   "metadata": {},
   "outputs": [
    {
     "data": {
      "text/plain": [
       "'571.56 '"
      ]
     },
     "execution_count": 12,
     "metadata": {},
     "output_type": "execute_result"
    }
   ],
   "source": [
    "df['Revenue'][0].split('$')[1] #Just testing this code if it would work out."
   ]
  },
  {
   "cell_type": "code",
   "execution_count": 13,
   "id": "cd873192",
   "metadata": {},
   "outputs": [],
   "source": [
    "df['revenue']= df['Revenue'].apply(lambda x: x.split('$')[1]) #Here, I tried to remove the $ sign in the Revenue column.\n",
    "# Afterwards, I put everything in a new column"
   ]
  },
  {
   "cell_type": "code",
   "execution_count": 14,
   "id": "a5705446",
   "metadata": {},
   "outputs": [],
   "source": [
    "df['Daily_rate_per_night'] = df['daily_rate_per_night'].apply(lambda x: x.split('$')[1])\n",
    "#I removed every dollar sign for the daily_rate column"
   ]
  },
  {
   "cell_type": "code",
   "execution_count": 15,
   "id": "2d80e5d4",
   "metadata": {},
   "outputs": [],
   "source": [
    "df['meal_cost'] = df['Meal_cost'].apply(lambda x: x.split('$')[1]) #removed I removed the dollar sign for the meal cost column. "
   ]
  },
  {
   "cell_type": "code",
   "execution_count": 16,
   "id": "6a4952a4",
   "metadata": {},
   "outputs": [],
   "source": [
    "#Let me drop two tables at a time\n",
    "df.drop(['daily_rate_per_night', 'Revenue','Meal_cost'], axis= 1, inplace= True)"
   ]
  },
  {
   "cell_type": "code",
   "execution_count": 17,
   "id": "9f70991a",
   "metadata": {},
   "outputs": [],
   "source": [
    "#some data are not not in their right data type. let me change them.\n",
    "df['arrival_date_year'] = df['arrival_date_year'].astype(str)"
   ]
  },
  {
   "cell_type": "code",
   "execution_count": 18,
   "id": "831da873",
   "metadata": {},
   "outputs": [
    {
     "data": {
      "text/plain": [
       "hotel                          object\n",
       "arrival_date_year              object\n",
       "arrival_date_month             object\n",
       "stays_in_week_nights            int64\n",
       "stays_in_weekend_nights         int64\n",
       "meal                           object\n",
       "country                        object\n",
       "market_segment                 object\n",
       "required_car_parking_spaces     int64\n",
       "revenue                        object\n",
       "Daily_rate_per_night           object\n",
       "meal_cost                      object\n",
       "dtype: object"
      ]
     },
     "execution_count": 18,
     "metadata": {},
     "output_type": "execute_result"
    }
   ],
   "source": [
    "df.dtypes"
   ]
  },
  {
   "cell_type": "code",
   "execution_count": 19,
   "id": "97947fda",
   "metadata": {},
   "outputs": [
    {
     "ename": "KeyError",
     "evalue": "('revenue', 'Daily_rate_parking_spaces')",
     "output_type": "error",
     "traceback": [
      "\u001b[1;31m---------------------------------------------------------------------------\u001b[0m",
      "\u001b[1;31mKeyError\u001b[0m                                  Traceback (most recent call last)",
      "\u001b[1;32m~\\anaconda3\\lib\\site-packages\\pandas\\core\\indexes\\base.py\u001b[0m in \u001b[0;36mget_loc\u001b[1;34m(self, key, method, tolerance)\u001b[0m\n\u001b[0;32m   3628\u001b[0m             \u001b[1;32mtry\u001b[0m\u001b[1;33m:\u001b[0m\u001b[1;33m\u001b[0m\u001b[1;33m\u001b[0m\u001b[0m\n\u001b[1;32m-> 3629\u001b[1;33m                 \u001b[1;32mreturn\u001b[0m \u001b[0mself\u001b[0m\u001b[1;33m.\u001b[0m\u001b[0m_engine\u001b[0m\u001b[1;33m.\u001b[0m\u001b[0mget_loc\u001b[0m\u001b[1;33m(\u001b[0m\u001b[0mcasted_key\u001b[0m\u001b[1;33m)\u001b[0m\u001b[1;33m\u001b[0m\u001b[1;33m\u001b[0m\u001b[0m\n\u001b[0m\u001b[0;32m   3630\u001b[0m             \u001b[1;32mexcept\u001b[0m \u001b[0mKeyError\u001b[0m \u001b[1;32mas\u001b[0m \u001b[0merr\u001b[0m\u001b[1;33m:\u001b[0m\u001b[1;33m\u001b[0m\u001b[1;33m\u001b[0m\u001b[0m\n",
      "\u001b[1;32m~\\anaconda3\\lib\\site-packages\\pandas\\_libs\\index.pyx\u001b[0m in \u001b[0;36mpandas._libs.index.IndexEngine.get_loc\u001b[1;34m()\u001b[0m\n",
      "\u001b[1;32m~\\anaconda3\\lib\\site-packages\\pandas\\_libs\\index.pyx\u001b[0m in \u001b[0;36mpandas._libs.index.IndexEngine.get_loc\u001b[1;34m()\u001b[0m\n",
      "\u001b[1;32mpandas\\_libs\\hashtable_class_helper.pxi\u001b[0m in \u001b[0;36mpandas._libs.hashtable.PyObjectHashTable.get_item\u001b[1;34m()\u001b[0m\n",
      "\u001b[1;32mpandas\\_libs\\hashtable_class_helper.pxi\u001b[0m in \u001b[0;36mpandas._libs.hashtable.PyObjectHashTable.get_item\u001b[1;34m()\u001b[0m\n",
      "\u001b[1;31mKeyError\u001b[0m: ('revenue', 'Daily_rate_parking_spaces')",
      "\nThe above exception was the direct cause of the following exception:\n",
      "\u001b[1;31mKeyError\u001b[0m                                  Traceback (most recent call last)",
      "\u001b[1;32m~\\AppData\\Local\\Temp\\ipykernel_50144\\3050927157.py\u001b[0m in \u001b[0;36m<module>\u001b[1;34m\u001b[0m\n\u001b[0;32m      1\u001b[0m \u001b[1;31m#daily rate per night and revenue are as strings, let me convert them to float.\u001b[0m\u001b[1;33m\u001b[0m\u001b[1;33m\u001b[0m\u001b[0m\n\u001b[1;32m----> 2\u001b[1;33m \u001b[0mdf\u001b[0m\u001b[1;33m[\u001b[0m\u001b[1;34m'revenue'\u001b[0m\u001b[1;33m,\u001b[0m\u001b[1;34m'Daily_rate_parking_spaces'\u001b[0m\u001b[1;33m]\u001b[0m\u001b[1;33m=\u001b[0m \u001b[0mdf\u001b[0m\u001b[1;33m[\u001b[0m\u001b[1;34m'revenue'\u001b[0m\u001b[1;33m,\u001b[0m \u001b[1;34m'Daily_rate_parking_spaces'\u001b[0m\u001b[1;33m]\u001b[0m\u001b[1;33m.\u001b[0m\u001b[0mapply\u001b[0m\u001b[1;33m(\u001b[0m\u001b[0mpd\u001b[0m\u001b[1;33m.\u001b[0m\u001b[0mto_numeric\u001b[0m\u001b[1;33m)\u001b[0m\u001b[1;33m\u001b[0m\u001b[1;33m\u001b[0m\u001b[0m\n\u001b[0m\u001b[0;32m      3\u001b[0m \u001b[1;31m#if I was dealing with one column, df['revenue'] = pd.to_numeric(['revenue']) would have worked\u001b[0m\u001b[1;33m\u001b[0m\u001b[1;33m\u001b[0m\u001b[0m\n",
      "\u001b[1;32m~\\anaconda3\\lib\\site-packages\\pandas\\core\\frame.py\u001b[0m in \u001b[0;36m__getitem__\u001b[1;34m(self, key)\u001b[0m\n\u001b[0;32m   3503\u001b[0m             \u001b[1;32mif\u001b[0m \u001b[0mself\u001b[0m\u001b[1;33m.\u001b[0m\u001b[0mcolumns\u001b[0m\u001b[1;33m.\u001b[0m\u001b[0mnlevels\u001b[0m \u001b[1;33m>\u001b[0m \u001b[1;36m1\u001b[0m\u001b[1;33m:\u001b[0m\u001b[1;33m\u001b[0m\u001b[1;33m\u001b[0m\u001b[0m\n\u001b[0;32m   3504\u001b[0m                 \u001b[1;32mreturn\u001b[0m \u001b[0mself\u001b[0m\u001b[1;33m.\u001b[0m\u001b[0m_getitem_multilevel\u001b[0m\u001b[1;33m(\u001b[0m\u001b[0mkey\u001b[0m\u001b[1;33m)\u001b[0m\u001b[1;33m\u001b[0m\u001b[1;33m\u001b[0m\u001b[0m\n\u001b[1;32m-> 3505\u001b[1;33m             \u001b[0mindexer\u001b[0m \u001b[1;33m=\u001b[0m \u001b[0mself\u001b[0m\u001b[1;33m.\u001b[0m\u001b[0mcolumns\u001b[0m\u001b[1;33m.\u001b[0m\u001b[0mget_loc\u001b[0m\u001b[1;33m(\u001b[0m\u001b[0mkey\u001b[0m\u001b[1;33m)\u001b[0m\u001b[1;33m\u001b[0m\u001b[1;33m\u001b[0m\u001b[0m\n\u001b[0m\u001b[0;32m   3506\u001b[0m             \u001b[1;32mif\u001b[0m \u001b[0mis_integer\u001b[0m\u001b[1;33m(\u001b[0m\u001b[0mindexer\u001b[0m\u001b[1;33m)\u001b[0m\u001b[1;33m:\u001b[0m\u001b[1;33m\u001b[0m\u001b[1;33m\u001b[0m\u001b[0m\n\u001b[0;32m   3507\u001b[0m                 \u001b[0mindexer\u001b[0m \u001b[1;33m=\u001b[0m \u001b[1;33m[\u001b[0m\u001b[0mindexer\u001b[0m\u001b[1;33m]\u001b[0m\u001b[1;33m\u001b[0m\u001b[1;33m\u001b[0m\u001b[0m\n",
      "\u001b[1;32m~\\anaconda3\\lib\\site-packages\\pandas\\core\\indexes\\base.py\u001b[0m in \u001b[0;36mget_loc\u001b[1;34m(self, key, method, tolerance)\u001b[0m\n\u001b[0;32m   3629\u001b[0m                 \u001b[1;32mreturn\u001b[0m \u001b[0mself\u001b[0m\u001b[1;33m.\u001b[0m\u001b[0m_engine\u001b[0m\u001b[1;33m.\u001b[0m\u001b[0mget_loc\u001b[0m\u001b[1;33m(\u001b[0m\u001b[0mcasted_key\u001b[0m\u001b[1;33m)\u001b[0m\u001b[1;33m\u001b[0m\u001b[1;33m\u001b[0m\u001b[0m\n\u001b[0;32m   3630\u001b[0m             \u001b[1;32mexcept\u001b[0m \u001b[0mKeyError\u001b[0m \u001b[1;32mas\u001b[0m \u001b[0merr\u001b[0m\u001b[1;33m:\u001b[0m\u001b[1;33m\u001b[0m\u001b[1;33m\u001b[0m\u001b[0m\n\u001b[1;32m-> 3631\u001b[1;33m                 \u001b[1;32mraise\u001b[0m \u001b[0mKeyError\u001b[0m\u001b[1;33m(\u001b[0m\u001b[0mkey\u001b[0m\u001b[1;33m)\u001b[0m \u001b[1;32mfrom\u001b[0m \u001b[0merr\u001b[0m\u001b[1;33m\u001b[0m\u001b[1;33m\u001b[0m\u001b[0m\n\u001b[0m\u001b[0;32m   3632\u001b[0m             \u001b[1;32mexcept\u001b[0m \u001b[0mTypeError\u001b[0m\u001b[1;33m:\u001b[0m\u001b[1;33m\u001b[0m\u001b[1;33m\u001b[0m\u001b[0m\n\u001b[0;32m   3633\u001b[0m                 \u001b[1;31m# If we have a listlike key, _check_indexing_error will raise\u001b[0m\u001b[1;33m\u001b[0m\u001b[1;33m\u001b[0m\u001b[0m\n",
      "\u001b[1;31mKeyError\u001b[0m: ('revenue', 'Daily_rate_parking_spaces')"
     ]
    }
   ],
   "source": [
    "#daily rate per night and revenue are as strings, let me convert them to float.\n",
    "df['revenue','Daily_rate_parking_spaces']= df['revenue', 'Daily_rate_parking_spaces'].apply(pd.to_numeric)\n",
    "#if I was dealing with one column, df['revenue'] = pd.to_numeric(['revenue']) would have worked"
   ]
  },
  {
   "cell_type": "code",
   "execution_count": 20,
   "id": "4b364c8c",
   "metadata": {},
   "outputs": [
    {
     "data": {
      "text/plain": [
       "hotel                          Resort Hotel\n",
       "arrival_date_year                      2020\n",
       "arrival_date_month                    March\n",
       "stays_in_week_nights                      6\n",
       "stays_in_weekend_nights                   4\n",
       "meal                                     BB\n",
       "country                                 GBR\n",
       "market_segment                       Groups\n",
       "required_car_parking_spaces               0\n",
       "revenue                              82.88)\n",
       "Daily_rate_per_night                  6.38)\n",
       "meal_cost                            12.99 \n",
       "Name: 12258, dtype: object"
      ]
     },
     "execution_count": 20,
     "metadata": {},
     "output_type": "execute_result"
    }
   ],
   "source": [
    "df.loc[12258] #The error message I got earlier showed the a bracket in row 12258 has a bracket and that was why I couldn't convert to float data.\n",
    "#so I decided to check here."
   ]
  },
  {
   "cell_type": "code",
   "execution_count": 21,
   "id": "a03bd8d9",
   "metadata": {},
   "outputs": [
    {
     "data": {
      "text/html": [
       "<div>\n",
       "<style scoped>\n",
       "    .dataframe tbody tr th:only-of-type {\n",
       "        vertical-align: middle;\n",
       "    }\n",
       "\n",
       "    .dataframe tbody tr th {\n",
       "        vertical-align: top;\n",
       "    }\n",
       "\n",
       "    .dataframe thead th {\n",
       "        text-align: right;\n",
       "    }\n",
       "</style>\n",
       "<table border=\"1\" class=\"dataframe\">\n",
       "  <thead>\n",
       "    <tr style=\"text-align: right;\">\n",
       "      <th></th>\n",
       "      <th>hotel</th>\n",
       "      <th>arrival_date_year</th>\n",
       "      <th>arrival_date_month</th>\n",
       "      <th>stays_in_week_nights</th>\n",
       "      <th>stays_in_weekend_nights</th>\n",
       "      <th>meal</th>\n",
       "      <th>country</th>\n",
       "      <th>market_segment</th>\n",
       "      <th>required_car_parking_spaces</th>\n",
       "      <th>revenue</th>\n",
       "      <th>Daily_rate_per_night</th>\n",
       "      <th>meal_cost</th>\n",
       "    </tr>\n",
       "  </thead>\n",
       "  <tbody>\n",
       "    <tr>\n",
       "      <th>12258</th>\n",
       "      <td>Resort Hotel</td>\n",
       "      <td>2020</td>\n",
       "      <td>March</td>\n",
       "      <td>6</td>\n",
       "      <td>4</td>\n",
       "      <td>BB</td>\n",
       "      <td>GBR</td>\n",
       "      <td>Groups</td>\n",
       "      <td>0</td>\n",
       "      <td>82.88)</td>\n",
       "      <td>6.38)</td>\n",
       "      <td>12.99</td>\n",
       "    </tr>\n",
       "  </tbody>\n",
       "</table>\n",
       "</div>"
      ],
      "text/plain": [
       "              hotel arrival_date_year arrival_date_month  \\\n",
       "12258  Resort Hotel              2020              March   \n",
       "\n",
       "       stays_in_week_nights  stays_in_weekend_nights meal country  \\\n",
       "12258                     6                        4   BB     GBR   \n",
       "\n",
       "      market_segment  required_car_parking_spaces revenue  \\\n",
       "12258         Groups                            0  82.88)   \n",
       "\n",
       "      Daily_rate_per_night meal_cost  \n",
       "12258                6.38)    12.99   "
      ]
     },
     "execution_count": 21,
     "metadata": {},
     "output_type": "execute_result"
    }
   ],
   "source": [
    "df[df['revenue'].str.contains('\\)')]\n",
    "#Alternatively you can use df[df['revenue'].str.contains(')'), regex = False]. regex by default is True.\n",
    "#so now I have spotted why I couldn't convert the columns to string. which is because of the incomplete parenthesis.\n",
    "#this was indicated by the error message I had earlier"
   ]
  },
  {
   "cell_type": "code",
   "execution_count": 22,
   "id": "b5e4ac0c",
   "metadata": {},
   "outputs": [
    {
     "name": "stderr",
     "output_type": "stream",
     "text": [
      "C:\\Users\\user\\AppData\\Local\\Temp\\ipykernel_50144\\835728886.py:2: FutureWarning: The default value of regex will change from True to False in a future version. In addition, single character regular expressions will *not* be treated as literal strings when regex=True.\n",
      "  df['revenue']= df['revenue'].str.replace(')', '')\n"
     ]
    }
   ],
   "source": [
    "#To get rid of the parenthesis with replace.\n",
    "df['revenue']= df['revenue'].str.replace(')', '')"
   ]
  },
  {
   "cell_type": "code",
   "execution_count": 23,
   "id": "9d507feb",
   "metadata": {},
   "outputs": [
    {
     "data": {
      "text/html": [
       "<div>\n",
       "<style scoped>\n",
       "    .dataframe tbody tr th:only-of-type {\n",
       "        vertical-align: middle;\n",
       "    }\n",
       "\n",
       "    .dataframe tbody tr th {\n",
       "        vertical-align: top;\n",
       "    }\n",
       "\n",
       "    .dataframe thead th {\n",
       "        text-align: right;\n",
       "    }\n",
       "</style>\n",
       "<table border=\"1\" class=\"dataframe\">\n",
       "  <thead>\n",
       "    <tr style=\"text-align: right;\">\n",
       "      <th></th>\n",
       "      <th>hotel</th>\n",
       "      <th>arrival_date_year</th>\n",
       "      <th>arrival_date_month</th>\n",
       "      <th>stays_in_week_nights</th>\n",
       "      <th>stays_in_weekend_nights</th>\n",
       "      <th>meal</th>\n",
       "      <th>country</th>\n",
       "      <th>market_segment</th>\n",
       "      <th>required_car_parking_spaces</th>\n",
       "      <th>revenue</th>\n",
       "      <th>Daily_rate_per_night</th>\n",
       "      <th>meal_cost</th>\n",
       "    </tr>\n",
       "  </thead>\n",
       "  <tbody>\n",
       "  </tbody>\n",
       "</table>\n",
       "</div>"
      ],
      "text/plain": [
       "Empty DataFrame\n",
       "Columns: [hotel, arrival_date_year, arrival_date_month, stays_in_week_nights, stays_in_weekend_nights, meal, country, market_segment, required_car_parking_spaces, revenue, Daily_rate_per_night, meal_cost]\n",
       "Index: []"
      ]
     },
     "execution_count": 23,
     "metadata": {},
     "output_type": "execute_result"
    }
   ],
   "source": [
    "df[df['revenue'].str.contains('\\)')] #we can now see that there is no value containin the close parenthesis ')' in the revenue column"
   ]
  },
  {
   "cell_type": "code",
   "execution_count": 24,
   "id": "c6669abf",
   "metadata": {},
   "outputs": [
    {
     "name": "stderr",
     "output_type": "stream",
     "text": [
      "C:\\Users\\user\\AppData\\Local\\Temp\\ipykernel_50144\\2384736266.py:2: FutureWarning: The default value of regex will change from True to False in a future version. In addition, single character regular expressions will *not* be treated as literal strings when regex=True.\n",
      "  df['Daily_rate_per_night']= df['Daily_rate_per_night'].str.replace(')', '')\n"
     ]
    }
   ],
   "source": [
    "# Lets also get rid of the ')' in the daily rate per night\n",
    "df['Daily_rate_per_night']= df['Daily_rate_per_night'].str.replace(')', '')"
   ]
  },
  {
   "cell_type": "code",
   "execution_count": 25,
   "id": "149ff8ca",
   "metadata": {},
   "outputs": [
    {
     "data": {
      "text/html": [
       "<div>\n",
       "<style scoped>\n",
       "    .dataframe tbody tr th:only-of-type {\n",
       "        vertical-align: middle;\n",
       "    }\n",
       "\n",
       "    .dataframe tbody tr th {\n",
       "        vertical-align: top;\n",
       "    }\n",
       "\n",
       "    .dataframe thead th {\n",
       "        text-align: right;\n",
       "    }\n",
       "</style>\n",
       "<table border=\"1\" class=\"dataframe\">\n",
       "  <thead>\n",
       "    <tr style=\"text-align: right;\">\n",
       "      <th></th>\n",
       "      <th>hotel</th>\n",
       "      <th>arrival_date_year</th>\n",
       "      <th>arrival_date_month</th>\n",
       "      <th>stays_in_week_nights</th>\n",
       "      <th>stays_in_weekend_nights</th>\n",
       "      <th>meal</th>\n",
       "      <th>country</th>\n",
       "      <th>market_segment</th>\n",
       "      <th>required_car_parking_spaces</th>\n",
       "      <th>revenue</th>\n",
       "      <th>Daily_rate_per_night</th>\n",
       "      <th>meal_cost</th>\n",
       "    </tr>\n",
       "  </thead>\n",
       "  <tbody>\n",
       "  </tbody>\n",
       "</table>\n",
       "</div>"
      ],
      "text/plain": [
       "Empty DataFrame\n",
       "Columns: [hotel, arrival_date_year, arrival_date_month, stays_in_week_nights, stays_in_weekend_nights, meal, country, market_segment, required_car_parking_spaces, revenue, Daily_rate_per_night, meal_cost]\n",
       "Index: []"
      ]
     },
     "execution_count": 25,
     "metadata": {},
     "output_type": "execute_result"
    }
   ],
   "source": [
    "df[df['Daily_rate_per_night'].str.contains('\\)')] # the close parenthesis is gone."
   ]
  },
  {
   "cell_type": "code",
   "execution_count": 26,
   "id": "39ede16c",
   "metadata": {},
   "outputs": [
    {
     "ename": "ValueError",
     "evalue": "Unable to parse string \"1,122.34 \" at position 0",
     "output_type": "error",
     "traceback": [
      "\u001b[1;31m---------------------------------------------------------------------------\u001b[0m",
      "\u001b[1;31mValueError\u001b[0m                                Traceback (most recent call last)",
      "\u001b[1;32m~\\anaconda3\\lib\\site-packages\\pandas\\_libs\\lib.pyx\u001b[0m in \u001b[0;36mpandas._libs.lib.maybe_convert_numeric\u001b[1;34m()\u001b[0m\n",
      "\u001b[1;31mValueError\u001b[0m: Unable to parse string \"1,122.34 \"",
      "\nDuring handling of the above exception, another exception occurred:\n",
      "\u001b[1;31mValueError\u001b[0m                                Traceback (most recent call last)",
      "\u001b[1;32m~\\AppData\\Local\\Temp\\ipykernel_50144\\353219619.py\u001b[0m in \u001b[0;36m<module>\u001b[1;34m\u001b[0m\n\u001b[0;32m      1\u001b[0m \u001b[1;31m#lets now change the data type for the two columns\u001b[0m\u001b[1;33m\u001b[0m\u001b[1;33m\u001b[0m\u001b[0m\n\u001b[1;32m----> 2\u001b[1;33m \u001b[0mdf\u001b[0m\u001b[1;33m[\u001b[0m\u001b[1;34m'revenue'\u001b[0m\u001b[1;33m]\u001b[0m\u001b[1;33m=\u001b[0m \u001b[0mdf\u001b[0m\u001b[1;33m[\u001b[0m\u001b[1;34m'revenue'\u001b[0m\u001b[1;33m]\u001b[0m\u001b[1;33m.\u001b[0m\u001b[0mapply\u001b[0m\u001b[1;33m(\u001b[0m\u001b[0mpd\u001b[0m\u001b[1;33m.\u001b[0m\u001b[0mto_numeric\u001b[0m\u001b[1;33m)\u001b[0m\u001b[1;33m\u001b[0m\u001b[1;33m\u001b[0m\u001b[0m\n\u001b[0m",
      "\u001b[1;32m~\\anaconda3\\lib\\site-packages\\pandas\\core\\series.py\u001b[0m in \u001b[0;36mapply\u001b[1;34m(self, func, convert_dtype, args, **kwargs)\u001b[0m\n\u001b[0;32m   4431\u001b[0m         \u001b[0mdtype\u001b[0m\u001b[1;33m:\u001b[0m \u001b[0mfloat64\u001b[0m\u001b[1;33m\u001b[0m\u001b[1;33m\u001b[0m\u001b[0m\n\u001b[0;32m   4432\u001b[0m         \"\"\"\n\u001b[1;32m-> 4433\u001b[1;33m         \u001b[1;32mreturn\u001b[0m \u001b[0mSeriesApply\u001b[0m\u001b[1;33m(\u001b[0m\u001b[0mself\u001b[0m\u001b[1;33m,\u001b[0m \u001b[0mfunc\u001b[0m\u001b[1;33m,\u001b[0m \u001b[0mconvert_dtype\u001b[0m\u001b[1;33m,\u001b[0m \u001b[0margs\u001b[0m\u001b[1;33m,\u001b[0m \u001b[0mkwargs\u001b[0m\u001b[1;33m)\u001b[0m\u001b[1;33m.\u001b[0m\u001b[0mapply\u001b[0m\u001b[1;33m(\u001b[0m\u001b[1;33m)\u001b[0m\u001b[1;33m\u001b[0m\u001b[1;33m\u001b[0m\u001b[0m\n\u001b[0m\u001b[0;32m   4434\u001b[0m \u001b[1;33m\u001b[0m\u001b[0m\n\u001b[0;32m   4435\u001b[0m     def _reduce(\n",
      "\u001b[1;32m~\\anaconda3\\lib\\site-packages\\pandas\\core\\apply.py\u001b[0m in \u001b[0;36mapply\u001b[1;34m(self)\u001b[0m\n\u001b[0;32m   1086\u001b[0m             \u001b[1;32mreturn\u001b[0m \u001b[0mself\u001b[0m\u001b[1;33m.\u001b[0m\u001b[0mapply_str\u001b[0m\u001b[1;33m(\u001b[0m\u001b[1;33m)\u001b[0m\u001b[1;33m\u001b[0m\u001b[1;33m\u001b[0m\u001b[0m\n\u001b[0;32m   1087\u001b[0m \u001b[1;33m\u001b[0m\u001b[0m\n\u001b[1;32m-> 1088\u001b[1;33m         \u001b[1;32mreturn\u001b[0m \u001b[0mself\u001b[0m\u001b[1;33m.\u001b[0m\u001b[0mapply_standard\u001b[0m\u001b[1;33m(\u001b[0m\u001b[1;33m)\u001b[0m\u001b[1;33m\u001b[0m\u001b[1;33m\u001b[0m\u001b[0m\n\u001b[0m\u001b[0;32m   1089\u001b[0m \u001b[1;33m\u001b[0m\u001b[0m\n\u001b[0;32m   1090\u001b[0m     \u001b[1;32mdef\u001b[0m \u001b[0magg\u001b[0m\u001b[1;33m(\u001b[0m\u001b[0mself\u001b[0m\u001b[1;33m)\u001b[0m\u001b[1;33m:\u001b[0m\u001b[1;33m\u001b[0m\u001b[1;33m\u001b[0m\u001b[0m\n",
      "\u001b[1;32m~\\anaconda3\\lib\\site-packages\\pandas\\core\\apply.py\u001b[0m in \u001b[0;36mapply_standard\u001b[1;34m(self)\u001b[0m\n\u001b[0;32m   1141\u001b[0m                 \u001b[1;31m# List[Union[Callable[..., Any], str]]]]]\"; expected\u001b[0m\u001b[1;33m\u001b[0m\u001b[1;33m\u001b[0m\u001b[0m\n\u001b[0;32m   1142\u001b[0m                 \u001b[1;31m# \"Callable[[Any], Any]\"\u001b[0m\u001b[1;33m\u001b[0m\u001b[1;33m\u001b[0m\u001b[0m\n\u001b[1;32m-> 1143\u001b[1;33m                 mapped = lib.map_infer(\n\u001b[0m\u001b[0;32m   1144\u001b[0m                     \u001b[0mvalues\u001b[0m\u001b[1;33m,\u001b[0m\u001b[1;33m\u001b[0m\u001b[1;33m\u001b[0m\u001b[0m\n\u001b[0;32m   1145\u001b[0m                     \u001b[0mf\u001b[0m\u001b[1;33m,\u001b[0m  \u001b[1;31m# type: ignore[arg-type]\u001b[0m\u001b[1;33m\u001b[0m\u001b[1;33m\u001b[0m\u001b[0m\n",
      "\u001b[1;32m~\\anaconda3\\lib\\site-packages\\pandas\\_libs\\lib.pyx\u001b[0m in \u001b[0;36mpandas._libs.lib.map_infer\u001b[1;34m()\u001b[0m\n",
      "\u001b[1;32m~\\anaconda3\\lib\\site-packages\\pandas\\core\\tools\\numeric.py\u001b[0m in \u001b[0;36mto_numeric\u001b[1;34m(arg, errors, downcast)\u001b[0m\n\u001b[0;32m    182\u001b[0m         \u001b[0mcoerce_numeric\u001b[0m \u001b[1;33m=\u001b[0m \u001b[0merrors\u001b[0m \u001b[1;32mnot\u001b[0m \u001b[1;32min\u001b[0m \u001b[1;33m(\u001b[0m\u001b[1;34m\"ignore\"\u001b[0m\u001b[1;33m,\u001b[0m \u001b[1;34m\"raise\"\u001b[0m\u001b[1;33m)\u001b[0m\u001b[1;33m\u001b[0m\u001b[1;33m\u001b[0m\u001b[0m\n\u001b[0;32m    183\u001b[0m         \u001b[1;32mtry\u001b[0m\u001b[1;33m:\u001b[0m\u001b[1;33m\u001b[0m\u001b[1;33m\u001b[0m\u001b[0m\n\u001b[1;32m--> 184\u001b[1;33m             values, _ = lib.maybe_convert_numeric(\n\u001b[0m\u001b[0;32m    185\u001b[0m                 \u001b[0mvalues\u001b[0m\u001b[1;33m,\u001b[0m \u001b[0mset\u001b[0m\u001b[1;33m(\u001b[0m\u001b[1;33m)\u001b[0m\u001b[1;33m,\u001b[0m \u001b[0mcoerce_numeric\u001b[0m\u001b[1;33m=\u001b[0m\u001b[0mcoerce_numeric\u001b[0m\u001b[1;33m\u001b[0m\u001b[1;33m\u001b[0m\u001b[0m\n\u001b[0;32m    186\u001b[0m             )\n",
      "\u001b[1;32m~\\anaconda3\\lib\\site-packages\\pandas\\_libs\\lib.pyx\u001b[0m in \u001b[0;36mpandas._libs.lib.maybe_convert_numeric\u001b[1;34m()\u001b[0m\n",
      "\u001b[1;31mValueError\u001b[0m: Unable to parse string \"1,122.34 \" at position 0"
     ]
    }
   ],
   "source": [
    "#lets now change the data type for the two columns \n",
    "df['revenue']= df['revenue'].apply(pd.to_numeric) #the error here showed that some values are having ',' so they can't be changed to string."
   ]
  },
  {
   "cell_type": "code",
   "execution_count": 27,
   "id": "35e160b6",
   "metadata": {},
   "outputs": [
    {
     "data": {
      "text/html": [
       "<div>\n",
       "<style scoped>\n",
       "    .dataframe tbody tr th:only-of-type {\n",
       "        vertical-align: middle;\n",
       "    }\n",
       "\n",
       "    .dataframe tbody tr th {\n",
       "        vertical-align: top;\n",
       "    }\n",
       "\n",
       "    .dataframe thead th {\n",
       "        text-align: right;\n",
       "    }\n",
       "</style>\n",
       "<table border=\"1\" class=\"dataframe\">\n",
       "  <thead>\n",
       "    <tr style=\"text-align: right;\">\n",
       "      <th></th>\n",
       "      <th>hotel</th>\n",
       "      <th>arrival_date_year</th>\n",
       "      <th>arrival_date_month</th>\n",
       "      <th>stays_in_week_nights</th>\n",
       "      <th>stays_in_weekend_nights</th>\n",
       "      <th>meal</th>\n",
       "      <th>country</th>\n",
       "      <th>market_segment</th>\n",
       "      <th>required_car_parking_spaces</th>\n",
       "      <th>revenue</th>\n",
       "      <th>Daily_rate_per_night</th>\n",
       "      <th>meal_cost</th>\n",
       "    </tr>\n",
       "  </thead>\n",
       "  <tbody>\n",
       "    <tr>\n",
       "      <th>5</th>\n",
       "      <td>City Hotel</td>\n",
       "      <td>2020</td>\n",
       "      <td>June</td>\n",
       "      <td>3</td>\n",
       "      <td>0</td>\n",
       "      <td>BB</td>\n",
       "      <td>PRT</td>\n",
       "      <td>Aviation</td>\n",
       "      <td>0</td>\n",
       "      <td>1,122.34</td>\n",
       "      <td>144.00</td>\n",
       "      <td>12.99</td>\n",
       "    </tr>\n",
       "    <tr>\n",
       "      <th>22</th>\n",
       "      <td>City Hotel</td>\n",
       "      <td>2020</td>\n",
       "      <td>June</td>\n",
       "      <td>3</td>\n",
       "      <td>2</td>\n",
       "      <td>BB</td>\n",
       "      <td>PRT</td>\n",
       "      <td>Aviation</td>\n",
       "      <td>0</td>\n",
       "      <td>1,428.90</td>\n",
       "      <td>110.00</td>\n",
       "      <td>12.99</td>\n",
       "    </tr>\n",
       "    <tr>\n",
       "      <th>26</th>\n",
       "      <td>City Hotel</td>\n",
       "      <td>2020</td>\n",
       "      <td>March</td>\n",
       "      <td>10</td>\n",
       "      <td>4</td>\n",
       "      <td>BB</td>\n",
       "      <td>ITA</td>\n",
       "      <td>Aviation</td>\n",
       "      <td>0</td>\n",
       "      <td>3,455.34</td>\n",
       "      <td>95.00</td>\n",
       "      <td>12.99</td>\n",
       "    </tr>\n",
       "    <tr>\n",
       "      <th>30</th>\n",
       "      <td>City Hotel</td>\n",
       "      <td>2020</td>\n",
       "      <td>January</td>\n",
       "      <td>3</td>\n",
       "      <td>2</td>\n",
       "      <td>BB</td>\n",
       "      <td>PRT</td>\n",
       "      <td>Aviation</td>\n",
       "      <td>0</td>\n",
       "      <td>1,026.21</td>\n",
       "      <td>79.00</td>\n",
       "      <td>12.99</td>\n",
       "    </tr>\n",
       "    <tr>\n",
       "      <th>31</th>\n",
       "      <td>City Hotel</td>\n",
       "      <td>2020</td>\n",
       "      <td>June</td>\n",
       "      <td>10</td>\n",
       "      <td>4</td>\n",
       "      <td>BB</td>\n",
       "      <td>GRC</td>\n",
       "      <td>Aviation</td>\n",
       "      <td>0</td>\n",
       "      <td>4,000.92</td>\n",
       "      <td>110.00</td>\n",
       "      <td>12.99</td>\n",
       "    </tr>\n",
       "    <tr>\n",
       "      <th>...</th>\n",
       "      <td>...</td>\n",
       "      <td>...</td>\n",
       "      <td>...</td>\n",
       "      <td>...</td>\n",
       "      <td>...</td>\n",
       "      <td>...</td>\n",
       "      <td>...</td>\n",
       "      <td>...</td>\n",
       "      <td>...</td>\n",
       "      <td>...</td>\n",
       "      <td>...</td>\n",
       "      <td>...</td>\n",
       "    </tr>\n",
       "    <tr>\n",
       "      <th>53155</th>\n",
       "      <td>Resort Hotel</td>\n",
       "      <td>2020</td>\n",
       "      <td>April</td>\n",
       "      <td>3</td>\n",
       "      <td>1</td>\n",
       "      <td>BB</td>\n",
       "      <td>PRT</td>\n",
       "      <td>Online TA</td>\n",
       "      <td>0</td>\n",
       "      <td>3,054.94</td>\n",
       "      <td>195.98</td>\n",
       "      <td>12.99</td>\n",
       "    </tr>\n",
       "    <tr>\n",
       "      <th>53157</th>\n",
       "      <td>Resort Hotel</td>\n",
       "      <td>2020</td>\n",
       "      <td>July</td>\n",
       "      <td>2</td>\n",
       "      <td>2</td>\n",
       "      <td>BB</td>\n",
       "      <td>CHE</td>\n",
       "      <td>Online TA</td>\n",
       "      <td>0</td>\n",
       "      <td>2,805.84</td>\n",
       "      <td>180.00</td>\n",
       "      <td>12.99</td>\n",
       "    </tr>\n",
       "    <tr>\n",
       "      <th>53158</th>\n",
       "      <td>Resort Hotel</td>\n",
       "      <td>2020</td>\n",
       "      <td>August</td>\n",
       "      <td>10</td>\n",
       "      <td>4</td>\n",
       "      <td>BB</td>\n",
       "      <td>PRT</td>\n",
       "      <td>Online TA</td>\n",
       "      <td>0</td>\n",
       "      <td>24,551.10</td>\n",
       "      <td>450.00</td>\n",
       "      <td>12.99</td>\n",
       "    </tr>\n",
       "    <tr>\n",
       "      <th>53161</th>\n",
       "      <td>Resort Hotel</td>\n",
       "      <td>2019</td>\n",
       "      <td>October</td>\n",
       "      <td>15</td>\n",
       "      <td>6</td>\n",
       "      <td>BB</td>\n",
       "      <td>PRT</td>\n",
       "      <td>Online TA</td>\n",
       "      <td>0</td>\n",
       "      <td>4,271.89</td>\n",
       "      <td>52.20</td>\n",
       "      <td>12.99</td>\n",
       "    </tr>\n",
       "    <tr>\n",
       "      <th>53162</th>\n",
       "      <td>Resort Hotel</td>\n",
       "      <td>2019</td>\n",
       "      <td>October</td>\n",
       "      <td>15</td>\n",
       "      <td>6</td>\n",
       "      <td>BB</td>\n",
       "      <td>PRT</td>\n",
       "      <td>Online TA</td>\n",
       "      <td>0</td>\n",
       "      <td>4,271.89</td>\n",
       "      <td>52.20</td>\n",
       "      <td>12.99</td>\n",
       "    </tr>\n",
       "  </tbody>\n",
       "</table>\n",
       "<p>30850 rows × 12 columns</p>\n",
       "</div>"
      ],
      "text/plain": [
       "              hotel arrival_date_year arrival_date_month  \\\n",
       "5        City Hotel              2020               June   \n",
       "22       City Hotel              2020               June   \n",
       "26       City Hotel              2020              March   \n",
       "30       City Hotel              2020            January   \n",
       "31       City Hotel              2020               June   \n",
       "...             ...               ...                ...   \n",
       "53155  Resort Hotel              2020              April   \n",
       "53157  Resort Hotel              2020               July   \n",
       "53158  Resort Hotel              2020             August   \n",
       "53161  Resort Hotel              2019            October   \n",
       "53162  Resort Hotel              2019            October   \n",
       "\n",
       "       stays_in_week_nights  stays_in_weekend_nights meal country  \\\n",
       "5                         3                        0   BB     PRT   \n",
       "22                        3                        2   BB     PRT   \n",
       "26                       10                        4   BB     ITA   \n",
       "30                        3                        2   BB     PRT   \n",
       "31                       10                        4   BB     GRC   \n",
       "...                     ...                      ...  ...     ...   \n",
       "53155                     3                        1   BB     PRT   \n",
       "53157                     2                        2   BB     CHE   \n",
       "53158                    10                        4   BB     PRT   \n",
       "53161                    15                        6   BB     PRT   \n",
       "53162                    15                        6   BB     PRT   \n",
       "\n",
       "      market_segment  required_car_parking_spaces     revenue  \\\n",
       "5           Aviation                            0   1,122.34    \n",
       "22          Aviation                            0   1,428.90    \n",
       "26          Aviation                            0   3,455.34    \n",
       "30          Aviation                            0   1,026.21    \n",
       "31          Aviation                            0   4,000.92    \n",
       "...              ...                          ...         ...   \n",
       "53155      Online TA                            0   3,054.94    \n",
       "53157      Online TA                            0   2,805.84    \n",
       "53158      Online TA                            0  24,551.10    \n",
       "53161      Online TA                            0   4,271.89    \n",
       "53162      Online TA                            0   4,271.89    \n",
       "\n",
       "      Daily_rate_per_night meal_cost  \n",
       "5                  144.00     12.99   \n",
       "22                 110.00     12.99   \n",
       "26                  95.00     12.99   \n",
       "30                  79.00     12.99   \n",
       "31                 110.00     12.99   \n",
       "...                    ...       ...  \n",
       "53155              195.98     12.99   \n",
       "53157              180.00     12.99   \n",
       "53158              450.00     12.99   \n",
       "53161               52.20     12.99   \n",
       "53162               52.20     12.99   \n",
       "\n",
       "[30850 rows x 12 columns]"
      ]
     },
     "execution_count": 27,
     "metadata": {},
     "output_type": "execute_result"
    }
   ],
   "source": [
    "df[df['revenue'].str.contains('\\,')] #this code reveals all rows containing digits with ','"
   ]
  },
  {
   "cell_type": "code",
   "execution_count": 28,
   "id": "45739d64",
   "metadata": {},
   "outputs": [
    {
     "data": {
      "text/plain": [
       "30850"
      ]
     },
     "execution_count": 28,
     "metadata": {},
     "output_type": "execute_result"
    }
   ],
   "source": [
    "len(df[df['revenue'].str.contains(',')]) #They are 30850 in number"
   ]
  },
  {
   "cell_type": "code",
   "execution_count": 29,
   "id": "e17f65ee",
   "metadata": {},
   "outputs": [],
   "source": [
    "df['revenue']= df['revenue'].str.replace(',', '') #with this code, I removed the comma."
   ]
  },
  {
   "cell_type": "code",
   "execution_count": 30,
   "id": "7f0da2fb",
   "metadata": {},
   "outputs": [
    {
     "data": {
      "text/plain": [
       "0"
      ]
     },
     "execution_count": 30,
     "metadata": {},
     "output_type": "execute_result"
    }
   ],
   "source": [
    "len(df[df['revenue'].str.contains(',')]) #they have been replaced successfully"
   ]
  },
  {
   "cell_type": "code",
   "execution_count": 31,
   "id": "45bd5f71",
   "metadata": {},
   "outputs": [
    {
     "data": {
      "text/html": [
       "<div>\n",
       "<style scoped>\n",
       "    .dataframe tbody tr th:only-of-type {\n",
       "        vertical-align: middle;\n",
       "    }\n",
       "\n",
       "    .dataframe tbody tr th {\n",
       "        vertical-align: top;\n",
       "    }\n",
       "\n",
       "    .dataframe thead th {\n",
       "        text-align: right;\n",
       "    }\n",
       "</style>\n",
       "<table border=\"1\" class=\"dataframe\">\n",
       "  <thead>\n",
       "    <tr style=\"text-align: right;\">\n",
       "      <th></th>\n",
       "      <th>hotel</th>\n",
       "      <th>arrival_date_year</th>\n",
       "      <th>arrival_date_month</th>\n",
       "      <th>stays_in_week_nights</th>\n",
       "      <th>stays_in_weekend_nights</th>\n",
       "      <th>meal</th>\n",
       "      <th>country</th>\n",
       "      <th>market_segment</th>\n",
       "      <th>required_car_parking_spaces</th>\n",
       "      <th>revenue</th>\n",
       "      <th>Daily_rate_per_night</th>\n",
       "      <th>meal_cost</th>\n",
       "    </tr>\n",
       "  </thead>\n",
       "  <tbody>\n",
       "    <tr>\n",
       "      <th>15932</th>\n",
       "      <td>City Hotel</td>\n",
       "      <td>2019</td>\n",
       "      <td>March</td>\n",
       "      <td>1</td>\n",
       "      <td>0</td>\n",
       "      <td>BB</td>\n",
       "      <td>PRT</td>\n",
       "      <td>Offline TA/TO</td>\n",
       "      <td>0</td>\n",
       "      <td>21043.80</td>\n",
       "      <td>5,400.00</td>\n",
       "      <td>12.99</td>\n",
       "    </tr>\n",
       "  </tbody>\n",
       "</table>\n",
       "</div>"
      ],
      "text/plain": [
       "            hotel arrival_date_year arrival_date_month  stays_in_week_nights  \\\n",
       "15932  City Hotel              2019              March                     1   \n",
       "\n",
       "       stays_in_weekend_nights meal country market_segment  \\\n",
       "15932                        0   BB     PRT  Offline TA/TO   \n",
       "\n",
       "       required_car_parking_spaces    revenue Daily_rate_per_night meal_cost  \n",
       "15932                            0  21043.80             5,400.00     12.99   "
      ]
     },
     "execution_count": 31,
     "metadata": {},
     "output_type": "execute_result"
    }
   ],
   "source": [
    "df[df['Daily_rate_per_night'].str.contains(',')] # this code revealed that there is a row that contains a ',' in daily rate."
   ]
  },
  {
   "cell_type": "code",
   "execution_count": 32,
   "id": "4b10aa2f",
   "metadata": {},
   "outputs": [
    {
     "data": {
      "text/plain": [
       "1"
      ]
     },
     "execution_count": 32,
     "metadata": {},
     "output_type": "execute_result"
    }
   ],
   "source": [
    "len(df[df['Daily_rate_per_night'].str.contains(',')]) #this just shows it is just one row"
   ]
  },
  {
   "cell_type": "code",
   "execution_count": 33,
   "id": "aa6b152f",
   "metadata": {},
   "outputs": [],
   "source": [
    "df['Daily_rate_per_night']= df['Daily_rate_per_night'].str.replace(',', '') #this code removes the ','"
   ]
  },
  {
   "cell_type": "code",
   "execution_count": 34,
   "id": "1bd48e44",
   "metadata": {},
   "outputs": [],
   "source": [
    "df['revenue']= df['revenue'].apply(pd.to_numeric) #so I have finally changed to our desired data type."
   ]
  },
  {
   "cell_type": "code",
   "execution_count": null,
   "id": "caaca5ca",
   "metadata": {},
   "outputs": [],
   "source": [
    "df['Daily_rate_per_night']= df['Daily_rate_per_night'].apply(pd.to_numeric) #so we finally changed to our desired data type."
   ]
  },
  {
   "cell_type": "code",
   "execution_count": null,
   "id": "a15abc8c",
   "metadata": {},
   "outputs": [],
   "source": [
    "df['meal_cost'] = df['meal_cost'].apply(pd.to_numeric) #this change the meal cost column to numeric"
   ]
  },
  {
   "cell_type": "code",
   "execution_count": 35,
   "id": "9eeed1ac",
   "metadata": {},
   "outputs": [
    {
     "data": {
      "text/plain": [
       "hotel                           object\n",
       "arrival_date_year               object\n",
       "arrival_date_month              object\n",
       "stays_in_week_nights             int64\n",
       "stays_in_weekend_nights          int64\n",
       "meal                            object\n",
       "country                         object\n",
       "market_segment                  object\n",
       "required_car_parking_spaces      int64\n",
       "revenue                        float64\n",
       "Daily_rate_per_night            object\n",
       "meal_cost                       object\n",
       "dtype: object"
      ]
     },
     "execution_count": 35,
     "metadata": {},
     "output_type": "execute_result"
    }
   ],
   "source": [
    "df.dtypes #this checked the data type of every column and they are perfect as I want."
   ]
  },
  {
   "cell_type": "code",
   "execution_count": 36,
   "id": "97a30e58",
   "metadata": {},
   "outputs": [],
   "source": [
    "# I do not like the fact that revenue is comming before daily_rate_per_night. let me change reposition my columns befor visualization.\n",
    "df = df[['hotel', 'arrival_date_year', 'arrival_date_month','country', 'stays_in_weekend_nights','stays_in_weekend_nights','Daily_rate_per_night', 'required_car_parking_spaces','meal', 'meal_cost', 'market_segment', 'revenue']]"
   ]
  },
  {
   "cell_type": "code",
   "execution_count": 37,
   "id": "1ae597b2",
   "metadata": {},
   "outputs": [
    {
     "data": {
      "text/html": [
       "<div>\n",
       "<style scoped>\n",
       "    .dataframe tbody tr th:only-of-type {\n",
       "        vertical-align: middle;\n",
       "    }\n",
       "\n",
       "    .dataframe tbody tr th {\n",
       "        vertical-align: top;\n",
       "    }\n",
       "\n",
       "    .dataframe thead th {\n",
       "        text-align: right;\n",
       "    }\n",
       "</style>\n",
       "<table border=\"1\" class=\"dataframe\">\n",
       "  <thead>\n",
       "    <tr style=\"text-align: right;\">\n",
       "      <th></th>\n",
       "      <th>hotel</th>\n",
       "      <th>arrival_date_year</th>\n",
       "      <th>arrival_date_month</th>\n",
       "      <th>country</th>\n",
       "      <th>stays_in_weekend_nights</th>\n",
       "      <th>stays_in_weekend_nights</th>\n",
       "      <th>Daily_rate_per_night</th>\n",
       "      <th>required_car_parking_spaces</th>\n",
       "      <th>meal</th>\n",
       "      <th>meal_cost</th>\n",
       "      <th>market_segment</th>\n",
       "      <th>revenue</th>\n",
       "    </tr>\n",
       "  </thead>\n",
       "  <tbody>\n",
       "    <tr>\n",
       "      <th>0</th>\n",
       "      <td>City Hotel</td>\n",
       "      <td>2020</td>\n",
       "      <td>April</td>\n",
       "      <td>PRT</td>\n",
       "      <td>0</td>\n",
       "      <td>0</td>\n",
       "      <td>110.00</td>\n",
       "      <td>0</td>\n",
       "      <td>BB</td>\n",
       "      <td>12.99</td>\n",
       "      <td>Aviation</td>\n",
       "      <td>571.56</td>\n",
       "    </tr>\n",
       "    <tr>\n",
       "      <th>1</th>\n",
       "      <td>City Hotel</td>\n",
       "      <td>2020</td>\n",
       "      <td>January</td>\n",
       "      <td>AUT</td>\n",
       "      <td>0</td>\n",
       "      <td>0</td>\n",
       "      <td>95.00</td>\n",
       "      <td>0</td>\n",
       "      <td>BB</td>\n",
       "      <td>12.99</td>\n",
       "      <td>Aviation</td>\n",
       "      <td>493.62</td>\n",
       "    </tr>\n",
       "    <tr>\n",
       "      <th>2</th>\n",
       "      <td>City Hotel</td>\n",
       "      <td>2020</td>\n",
       "      <td>January</td>\n",
       "      <td>BEL</td>\n",
       "      <td>0</td>\n",
       "      <td>0</td>\n",
       "      <td>95.00</td>\n",
       "      <td>0</td>\n",
       "      <td>BB</td>\n",
       "      <td>12.99</td>\n",
       "      <td>Aviation</td>\n",
       "      <td>493.62</td>\n",
       "    </tr>\n",
       "  </tbody>\n",
       "</table>\n",
       "</div>"
      ],
      "text/plain": [
       "        hotel arrival_date_year arrival_date_month country  \\\n",
       "0  City Hotel              2020              April     PRT   \n",
       "1  City Hotel              2020            January     AUT   \n",
       "2  City Hotel              2020            January     BEL   \n",
       "\n",
       "   stays_in_weekend_nights  stays_in_weekend_nights Daily_rate_per_night  \\\n",
       "0                        0                        0              110.00    \n",
       "1                        0                        0               95.00    \n",
       "2                        0                        0               95.00    \n",
       "\n",
       "   required_car_parking_spaces meal meal_cost market_segment  revenue  \n",
       "0                            0   BB    12.99        Aviation   571.56  \n",
       "1                            0   BB    12.99        Aviation   493.62  \n",
       "2                            0   BB    12.99        Aviation   493.62  "
      ]
     },
     "execution_count": 37,
     "metadata": {},
     "output_type": "execute_result"
    }
   ],
   "source": [
    "df.head(3)"
   ]
  },
  {
   "cell_type": "markdown",
   "id": "116c5afd",
   "metadata": {},
   "source": [
    "# Visualization and Exploratory data Analysis"
   ]
  },
  {
   "cell_type": "code",
   "execution_count": 38,
   "id": "06382db8",
   "metadata": {},
   "outputs": [],
   "source": [
    "#Let me know revenue generated per year. this is the main task of this project.\n",
    "group_year = df.groupby('arrival_date_year').agg({'revenue':'sum'})"
   ]
  },
  {
   "cell_type": "code",
   "execution_count": 39,
   "id": "7ecc2468",
   "metadata": {
    "scrolled": true
   },
   "outputs": [],
   "source": [
    "group_year = group_year.sort_values('revenue',ascending=False).reset_index()"
   ]
  },
  {
   "cell_type": "code",
   "execution_count": 40,
   "id": "52d2dfef",
   "metadata": {},
   "outputs": [
    {
     "data": {
      "text/html": [
       "<div>\n",
       "<style scoped>\n",
       "    .dataframe tbody tr th:only-of-type {\n",
       "        vertical-align: middle;\n",
       "    }\n",
       "\n",
       "    .dataframe tbody tr th {\n",
       "        vertical-align: top;\n",
       "    }\n",
       "\n",
       "    .dataframe thead th {\n",
       "        text-align: right;\n",
       "    }\n",
       "</style>\n",
       "<table border=\"1\" class=\"dataframe\">\n",
       "  <thead>\n",
       "    <tr style=\"text-align: right;\">\n",
       "      <th></th>\n",
       "      <th>arrival_date_year</th>\n",
       "      <th>revenue</th>\n",
       "    </tr>\n",
       "  </thead>\n",
       "  <tbody>\n",
       "    <tr>\n",
       "      <th>0</th>\n",
       "      <td>2020</td>\n",
       "      <td>61683918.83</td>\n",
       "    </tr>\n",
       "    <tr>\n",
       "      <th>1</th>\n",
       "      <td>2018</td>\n",
       "      <td>17728779.81</td>\n",
       "    </tr>\n",
       "    <tr>\n",
       "      <th>2</th>\n",
       "      <td>2019</td>\n",
       "      <td>15961179.06</td>\n",
       "    </tr>\n",
       "  </tbody>\n",
       "</table>\n",
       "</div>"
      ],
      "text/plain": [
       "  arrival_date_year      revenue\n",
       "0              2020  61683918.83\n",
       "1              2018  17728779.81\n",
       "2              2019  15961179.06"
      ]
     },
     "execution_count": 40,
     "metadata": {},
     "output_type": "execute_result"
    }
   ],
   "source": [
    "group_year"
   ]
  },
  {
   "cell_type": "markdown",
   "id": "e2968441",
   "metadata": {},
   "source": [
    "This simply shows that the hotel made more money in 2020 and the least was in 2019"
   ]
  },
  {
   "cell_type": "code",
   "execution_count": 41,
   "id": "ea066953",
   "metadata": {},
   "outputs": [
    {
     "data": {
      "text/plain": [
       "<seaborn.axisgrid.FacetGrid at 0x199c7588880>"
      ]
     },
     "execution_count": 41,
     "metadata": {},
     "output_type": "execute_result"
    },
    {
     "data": {
      "image/png": "[encoded data removed]",
      "text/plain": [
       "<Figure size 500x500 with 1 Axes>"
      ]
     },
     "metadata": {},
     "output_type": "display_data"
    }
   ],
   "source": [
    "sns.catplot(x= 'arrival_date_year', y = 'revenue', data = group_year, kind = 'bar')\n"
   ]
  },
  {
   "cell_type": "markdown",
   "id": "7f07b3f4",
   "metadata": {},
   "source": [
    "This chart has proven that truly the hotel had more money in 2020 than any other year, with the least revenue coming in 2019"
   ]
  },
  {
   "cell_type": "code",
   "execution_count": 42,
   "id": "cb413dd8",
   "metadata": {},
   "outputs": [
    {
     "data": {
      "text/plain": [
       "<seaborn.axisgrid.FacetGrid at 0x199c6eca4c0>"
      ]
     },
     "execution_count": 42,
     "metadata": {},
     "output_type": "execute_result"
    },
    {
     "data": {
      "image/png": "[encoded data removed]",
      "text/plain": [
       "<Figure size 635.625x500 with 1 Axes>"
      ]
     },
     "metadata": {},
     "output_type": "display_data"
    }
   ],
   "source": [
    "sns.catplot(x = 'arrival_date_year', y= 'revenue', data = df, kind = 'bar', hue = 'hotel' )"
   ]
  },
  {
   "cell_type": "code",
   "execution_count": null,
   "id": "7074046e",
   "metadata": {},
   "outputs": [],
   "source": [
    "# I could check for how much the company have generated from each meal."
   ]
  }
 ],
 "metadata": {
  "kernelspec": {
   "display_name": "Python 3 (ipykernel)",
   "language": "python",
   "name": "python3"
  },
  "language_info": {
   "codemirror_mode": {
    "name": "ipython",
    "version": 3
   },
   "file_extension": ".py",
   "mimetype": "text/x-python",
   "name": "python",
   "nbconvert_exporter": "python",
   "pygments_lexer": "ipython3",
   "version": "3.9.13"
  },
  "toc": {
   "base_numbering": 1,
   "nav_menu": {},
   "number_sections": true,
   "sideBar": true,
   "skip_h1_title": false,
   "title_cell": "Table of Contents",
   "title_sidebar": "Contents",
   "toc_cell": false,
   "toc_position": {},
   "toc_section_display": true,
   "toc_window_display": false
  },
  "varInspector": {
   "cols": {
    "lenName": 16,
    "lenType": 16,
    "lenVar": 40
   },
   "kernels_config": {
    "python": {
     "delete_cmd_postfix": "",
     "delete_cmd_prefix": "del ",
     "library": "var_list.py",
     "varRefreshCmd": "print(var_dic_list())"
    },
    "r": {
     "delete_cmd_postfix": ") ",
     "delete_cmd_prefix": "rm(",
     "library": "var_list.r",
     "varRefreshCmd": "cat(var_dic_list()) "
    }
   },
   "types_to_exclude": [
    "module",
    "function",
    "builtin_function_or_method",
    "instance",
    "_Feature"
   ],
   "window_display": false
  }
 },
 "nbformat": 4,
 "nbformat_minor": 5
}
